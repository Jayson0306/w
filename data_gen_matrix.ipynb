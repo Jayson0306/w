{
 "cells": [
  {
   "cell_type": "code",
   "execution_count": 59,
   "id": "c87f8a61",
   "metadata": {},
   "outputs": [],
   "source": [
    "import numpy as np\n",
    "from scipy.special import erfc"
   ]
  },
  {
   "cell_type": "code",
   "execution_count": 77,
   "id": "dc2cabb5",
   "metadata": {},
   "outputs": [],
   "source": [
    "def rand_it(batch_size, variable_dim, region_a, region_b):\n",
    "    # np.random.rand( )可以返回一个或一组服从“0~1”均匀分布的随机样本值。随机样本取值范围是[0,1)，不包括1。\n",
    "    # np.random.rand(3,2 )可以返回一个或一组服从“0~1”均匀分布的随机矩阵(3行2列)。随机样本取值范围是[0,1)，不包括1。\n",
    "    x_it = (region_b - region_a) * np.random.rand(batch_size, variable_dim) + region_a\n",
    "    x_it = x_it.astype(np.float32)\n",
    "    return x_it"
   ]
  },
  {
   "cell_type": "code",
   "execution_count": 90,
   "id": "b688e993",
   "metadata": {},
   "outputs": [],
   "source": [
    "def gen_label(z1, t1, ws, ds, split, p1):\n",
    "    t = np.linspace(1, t1, split).reshape(1, split)\n",
    "    z = np.ones_like(t) * z1\n",
    "    p = np.ones_like(t).reshape(split, 1) * p1\n",
    "    temp1 = (z - ws * t) / np.sqrt(4 * ds * t)\n",
    "    exp1 = np.exp(-(np.square(temp1)))\n",
    "    temp2 = exp1 / np.sqrt(np.pi * ds * t)\n",
    "    temp3 = erfc(temp1)\n",
    "    i = temp2 + (0.5 * ws / ds) * temp3\n",
    "    u = np.matmul(i, p)\n",
    "    return u"
   ]
  },
  {
   "cell_type": "code",
   "execution_count": 60,
   "id": "d998dbd0",
   "metadata": {},
   "outputs": [],
   "source": [
    "split=1000\n",
    "t=np.linspace(1,split,split).reshape(1,split)\n",
    "z=np.ones_like(t)*1\n",
    "ws=0.001\n",
    "ds=0.0002\n",
    "p=0.0001\n",
    "p=np.ones_like(t).reshape(split,1)*p"
   ]
  },
  {
   "cell_type": "code",
   "execution_count": 72,
   "id": "8fa2d864",
   "metadata": {},
   "outputs": [
    {
     "data": {
      "text/plain": [
       "(1, 3000)"
      ]
     },
     "execution_count": 72,
     "metadata": {},
     "output_type": "execute_result"
    }
   ],
   "source": [
    "temp.shape"
   ]
  },
  {
   "cell_type": "code",
   "execution_count": 61,
   "id": "c20ca4b3",
   "metadata": {},
   "outputs": [],
   "source": [
    "temp1=(z-ws*t)/np.sqrt(4*ds*t)\n",
    "exp1=np.exp(-(np.square(temp1)))\n",
    "temp2=exp1/np.sqrt(pi*ds*t)"
   ]
  },
  {
   "cell_type": "code",
   "execution_count": 62,
   "id": "f8f9fee1",
   "metadata": {},
   "outputs": [],
   "source": [
    "temp3=erfc(temp1)"
   ]
  },
  {
   "cell_type": "code",
   "execution_count": 73,
   "id": "53aa48b5",
   "metadata": {},
   "outputs": [],
   "source": [
    "ip=temp2+(0.5*ws/ds)*temp3"
   ]
  },
  {
   "cell_type": "code",
   "execution_count": 74,
   "id": "579fc200",
   "metadata": {},
   "outputs": [],
   "source": [
    "u=np.matmul(ip,p)"
   ]
  },
  {
   "cell_type": "code",
   "execution_count": 75,
   "id": "9550d87c",
   "metadata": {},
   "outputs": [
    {
     "data": {
      "text/plain": [
       "array([[0.16472841]])"
      ]
     },
     "execution_count": 75,
     "metadata": {},
     "output_type": "execute_result"
    }
   ],
   "source": [
    "u"
   ]
  }
 ],
 "metadata": {
  "kernelspec": {
   "display_name": "Python 3 (ipykernel)",
   "language": "python",
   "name": "python3"
  },
  "language_info": {
   "codemirror_mode": {
    "name": "ipython",
    "version": 3
   },
   "file_extension": ".py",
   "mimetype": "text/x-python",
   "name": "python",
   "nbconvert_exporter": "python",
   "pygments_lexer": "ipython3",
   "version": "3.9.7"
  }
 },
 "nbformat": 4,
 "nbformat_minor": 5
}
