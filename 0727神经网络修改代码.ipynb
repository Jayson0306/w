{
 "cells": [
  {
   "cell_type": "code",
   "execution_count": 3,
   "id": "beebf511",
   "metadata": {},
   "outputs": [],
   "source": [
    "import tensorflow as tf\n",
    "import numpy as np\n",
    "import matplotlib.pyplot as plt\n",
    "from pyDOE import lhs\n",
    "from sympy import DiracDelta, diff, pi\n",
    "from sympy import *\n",
    "import numpy as np\n",
    "from math import erfc\n",
    "import torch\n",
    "import torch.nn as nn\n",
    "import numpy as np\n",
    "import matplotlib.pyplot as plt\n",
    "from torch import autograd\n",
    "import torch\n",
    "import torch.nn as nn\n",
    "import torch\n",
    "import torch.nn as nn\n",
    "import numpy as np\n",
    "import matplotlib.pyplot as plt\n",
    "import torch.optim as optim\n",
    "from torch.autograd import Variable\n",
    "import numpy as np\n",
    "from matplotlib import cm"
   ]
  },
  {
   "cell_type": "code",
   "execution_count": 4,
   "id": "425d29f0",
   "metadata": {},
   "outputs": [],
   "source": [
    "L=0.00001\n",
    "M=200\n",
    "Ws=0.001\n",
    "Ds=0.0002\n",
    "mu=0.000005"
   ]
  },
  {
   "cell_type": "code",
   "execution_count": 5,
   "id": "ebc236a6",
   "metadata": {
    "scrolled": false
   },
   "outputs": [],
   "source": [
    "def data_genf(zs,ze,ts,te,steps):\n",
    "    L=0.00001\n",
    "    M=200\n",
    "    Ws=0.001\n",
    "    Ds=0.0002\n",
    "    mu=0.000005\n",
    "    c=np.zeros((steps,steps))\n",
    "    z=np.linspace(zs,ze,steps)\n",
    "    p=np.linspace(ts,te,steps)\n",
    "    time=np.linspace(ts,te,steps)\n",
    "    for i in range(steps):\n",
    "        p[i]=0.0001\n",
    "    for i in range(steps):\n",
    "        Y=np.zeros(4000)\n",
    "        for t in range(steps):\n",
    "            y=Ip(z[i],time[t],Ws,Ds)\n",
    "            Y[t]=y\n",
    "        for t in range(steps):\n",
    "            pp=0\n",
    "            for nn in range(0,t+1):\n",
    "                pp=pp+Y[nn]*p[nn]\n",
    "            c[i][t]=pp\n",
    "    return c"
   ]
  },
  {
   "cell_type": "code",
   "execution_count": 8,
   "id": "c86758db",
   "metadata": {},
   "outputs": [],
   "source": [
    "c=data_genf(0.1,10,1,3000,100)"
   ]
  },
  {
   "cell_type": "code",
   "execution_count": 9,
   "id": "ddf05584",
   "metadata": {},
   "outputs": [
    {
     "data": {
      "text/plain": [
       "array([1.92515427e-08, 7.25404032e-04, 1.42042458e-03, 2.07780403e-03,\n",
       "       2.70689737e-03, 3.31483984e-03, 3.90655188e-03, 4.48548392e-03,\n",
       "       5.05413002e-03, 5.61434603e-03, 6.16754818e-03, 6.71484078e-03,\n",
       "       7.25710087e-03, 7.79503600e-03, 8.32922479e-03, 8.86014604e-03,\n",
       "       9.38820004e-03, 9.91372452e-03, 1.04370067e-02, 1.09582928e-02,\n",
       "       1.14777948e-02, 1.19956968e-02, 1.25121593e-02, 1.30273228e-02,\n",
       "       1.35413111e-02, 1.40542334e-02, 1.45661866e-02, 1.50772570e-02,\n",
       "       1.55875216e-02, 1.60970493e-02, 1.66059020e-02, 1.71141354e-02,\n",
       "       1.76217996e-02, 1.81289402e-02, 1.86355984e-02, 1.91418114e-02,\n",
       "       1.96476132e-02, 2.01530349e-02, 2.06581047e-02, 2.11628485e-02,\n",
       "       2.16672898e-02, 2.21714504e-02, 2.26753501e-02, 2.31790073e-02,\n",
       "       2.36824388e-02, 2.41856600e-02, 2.46886853e-02, 2.51915279e-02,\n",
       "       2.56941999e-02, 2.61967126e-02, 2.66990766e-02, 2.72013014e-02,\n",
       "       2.77033961e-02, 2.82053689e-02, 2.87072276e-02, 2.92089794e-02,\n",
       "       2.97106310e-02, 3.02121886e-02, 3.07136580e-02, 3.12150447e-02,\n",
       "       3.17163536e-02, 3.22175894e-02, 3.27187567e-02, 3.32198593e-02,\n",
       "       3.37209013e-02, 3.42218862e-02, 3.47228173e-02, 3.52236978e-02,\n",
       "       3.57245306e-02, 3.62253185e-02, 3.67260641e-02, 3.72267697e-02,\n",
       "       3.77274378e-02, 3.82280703e-02, 3.87286693e-02, 3.92292368e-02,\n",
       "       3.97297744e-02, 4.02302838e-02, 4.07307666e-02, 4.12312242e-02,\n",
       "       4.17316581e-02, 4.22320696e-02, 4.27324598e-02, 4.32328299e-02,\n",
       "       4.37331810e-02, 4.42335142e-02, 4.47338304e-02, 4.52341305e-02,\n",
       "       4.57344154e-02, 4.62346858e-02, 4.67349426e-02, 4.72351865e-02,\n",
       "       4.77354181e-02, 4.82356381e-02, 4.87358471e-02, 4.92360457e-02,\n",
       "       4.97362344e-02, 5.02364138e-02, 5.07365843e-02, 5.12367463e-02])"
      ]
     },
     "execution_count": 9,
     "metadata": {},
     "output_type": "execute_result"
    }
   ],
   "source": [
    "c[0][:]"
   ]
  },
  {
   "cell_type": "code",
   "execution_count": 52,
   "id": "3ddab05c",
   "metadata": {},
   "outputs": [],
   "source": [
    "def data_genf2(zs,ze,zsteps,ts,te,tsteps):#取到对角线元素即可\n",
    "    L=0.00001\n",
    "    M=200\n",
    "    Ws=0.001\n",
    "    Ds=0.0002\n",
    "    mu=0.000005\n",
    "    c=np.zeros((zsteps,tsteps))\n",
    "    z=np.linspace(zs,ze,zsteps)\n",
    "    p=np.linspace(ts,te,tsteps)\n",
    "    time=np.linspace(ts,te,tsteps)\n",
    "    for i in range(tsteps):\n",
    "        p[i]=0.0001\n",
    "    for i in range(zsteps):\n",
    "        Y=np.zeros(4000)\n",
    "        for t in range(tsteps):\n",
    "            y=Ip(z[i],time[t],Ws,Ds)\n",
    "            Y[t]=y\n",
    "        for t in range(i+1):\n",
    "            pp=0\n",
    "            for nn in range(0,t+1):\n",
    "                pp=pp+Y[nn]*p[nn]\n",
    "            c[i][t]=pp\n",
    "    return c"
   ]
  },
  {
   "cell_type": "code",
   "execution_count": 53,
   "id": "66282957",
   "metadata": {},
   "outputs": [],
   "source": [
    "c2=data_genf2(0.1,10,100,1,3000,100)"
   ]
  },
  {
   "cell_type": "code",
   "execution_count": 54,
   "id": "f55a4655",
   "metadata": {},
   "outputs": [
    {
     "data": {
      "text/plain": [
       "array([1.92515427e-08, 2.61678759e-04, 2.36505571e-04, 2.02254271e-04,\n",
       "       1.68811274e-04, 1.38587467e-04, 1.12922300e-04, 9.16092851e-05,\n",
       "       7.41282381e-05, 5.98920208e-05, 4.83470584e-05, 3.90085998e-05,\n",
       "       3.14667635e-05, 2.53816081e-05, 2.04743830e-05, 1.65181012e-05,\n",
       "       1.33287373e-05, 1.07575134e-05, 8.68436275e-06, 7.01249669e-06,\n",
       "       5.66394346e-06, 4.57591243e-06, 3.69784558e-06, 2.98903434e-06,\n",
       "       2.41669727e-06, 1.95443180e-06, 1.58096814e-06, 1.27916708e-06,\n",
       "       1.03521394e-06, 8.37970432e-07, 6.78453519e-07, 5.49416146e-07,\n",
       "       4.45010027e-07, 3.60514256e-07, 2.92116873e-07, 2.36738975e-07,\n",
       "       1.91893054e-07, 1.55568859e-07, 1.26141394e-07, 1.02296756e-07,\n",
       "       8.29723091e-08, 6.73084316e-08, 5.46095657e-08, 4.43127796e-08,\n",
       "       3.59623794e-08, 2.91894032e-08, 2.36950520e-08, 1.92373005e-08,\n",
       "       1.56200716e-08, 1.26844846e-08, 1.03017757e-08, 8.36757117e-09,\n",
       "       6.79725333e-09, 5.52221008e-09, 4.48679862e-09, 3.64588716e-09,\n",
       "       2.96286398e-09, 2.40802475e-09, 1.95726603e-09, 1.59102654e-09,\n",
       "       1.29342920e-09, 1.05158558e-09, 8.55032033e-10, 6.95272535e-10,\n",
       "       5.65407851e-10, 4.59834813e-10, 3.74002340e-10, 3.04213503e-10,\n",
       "       2.47464900e-10, 2.01316315e-10, 1.63784910e-10, 1.33259348e-10,\n",
       "       1.08430066e-10, 8.82326605e-11, 7.18019167e-11, 5.84344723e-11,\n",
       "       4.75584919e-11, 3.87090340e-11, 3.15080388e-11, 2.56480690e-11,\n",
       "       2.08790984e-11, 1.69977754e-11, 1.38386984e-11, 1.12673233e-11,\n",
       "       9.17419947e-12, 7.47028349e-12, 6.08312936e-12, 4.95379100e-12,\n",
       "       4.03430355e-12, 3.28563523e-12, 2.67602170e-12, 2.17961137e-12,\n",
       "       1.77536352e-12, 1.44615210e-12, 1.17803657e-12, 9.59668787e-13,\n",
       "       7.81810403e-13, 6.36940248e-13, 5.18934820e-13, 4.22808308e-13])"
      ]
     },
     "execution_count": 54,
     "metadata": {},
     "output_type": "execute_result"
    }
   ],
   "source": [
    "c2.diagonal()"
   ]
  },
  {
   "cell_type": "code",
   "execution_count": 43,
   "id": "7be0300f",
   "metadata": {},
   "outputs": [],
   "source": [
    "dig=c.diagonal()"
   ]
  },
  {
   "cell_type": "code",
   "execution_count": 44,
   "id": "762463c5",
   "metadata": {},
   "outputs": [
    {
     "data": {
      "text/plain": [
       "array([0., 0., 0., 0., 0., 0., 0., 0., 0., 0., 0., 0., 0., 0., 0., 0., 0.,\n",
       "       0., 0., 0., 0., 0., 0., 0., 0., 0., 0., 0., 0., 0., 0., 0., 0., 0.,\n",
       "       0., 0., 0., 0., 0., 0., 0., 0., 0., 0., 0., 0., 0., 0., 0., 0., 0.,\n",
       "       0., 0., 0., 0., 0., 0., 0., 0., 0., 0., 0., 0., 0., 0., 0., 0., 0.,\n",
       "       0., 0., 0., 0., 0., 0., 0., 0., 0., 0., 0., 0., 0., 0., 0., 0., 0.,\n",
       "       0., 0., 0., 0., 0., 0., 0., 0., 0., 0., 0., 0., 0., 0., 0.])"
      ]
     },
     "execution_count": 44,
     "metadata": {},
     "output_type": "execute_result"
    }
   ],
   "source": []
  },
  {
   "cell_type": "code",
   "execution_count": 25,
   "id": "0efa2faf",
   "metadata": {},
   "outputs": [
    {
     "data": {
      "text/plain": [
       "1.173282300879832e-47"
      ]
     },
     "execution_count": 25,
     "metadata": {},
     "output_type": "execute_result"
    }
   ],
   "source": [
    "Ip(0.3,1,0.001,0.0002)"
   ]
  },
  {
   "cell_type": "code",
   "execution_count": 26,
   "id": "77f998a3",
   "metadata": {},
   "outputs": [
    {
     "data": {
      "text/plain": [
       "1.4127512086950158e-10"
      ]
     },
     "execution_count": 26,
     "metadata": {},
     "output_type": "execute_result"
    }
   ],
   "source": [
    "c[2][0]"
   ]
  },
  {
   "cell_type": "code",
   "execution_count": 19,
   "id": "406c2c2c",
   "metadata": {},
   "outputs": [
    {
     "name": "stdout",
     "output_type": "stream",
     "text": [
      "[[0.00000000e+000 0.00000000e+000 0.00000000e+000 ... 0.00000000e+000\n",
      "  0.00000000e+000 0.00000000e+000]\n",
      " [1.82855153e-009 0.00000000e+000 0.00000000e+000 ... 0.00000000e+000\n",
      "  0.00000000e+000 0.00000000e+000]\n",
      " [1.41275121e-010 6.21807869e-007 0.00000000e+000 ... 0.00000000e+000\n",
      "  0.00000000e+000 0.00000000e+000]\n",
      " ...\n",
      " [0.00000000e+000 7.29016569e-264 9.82672691e-177 ... 0.00000000e+000\n",
      "  0.00000000e+000 0.00000000e+000]\n",
      " [0.00000000e+000 1.01095715e-268 5.71508206e-180 ... 0.00000000e+000\n",
      "  0.00000000e+000 0.00000000e+000]\n",
      " [0.00000000e+000 1.26433776e-273 3.10260285e-183 ... 0.00000000e+000\n",
      "  0.00000000e+000 0.00000000e+000]]\n"
     ]
    }
   ],
   "source": [
    "print(c)"
   ]
  },
  {
   "cell_type": "markdown",
   "id": "b85d4cdf",
   "metadata": {},
   "source": [
    "考虑原文的方程：\n",
    "$$\n",
    "\\left\\{\n",
    "\\begin{array}{rl}\n",
    "u_t + {w}_su_z - D_s u_{zz} = 0, & z \\in[0,+\\infty], ~~ t \\in [0, +\\infty]\\\\\n",
    "u(0, t) = \\delta (x)\n",
    "\\end{array}\n",
    "\\right.\n",
    "$$"
   ]
  },
  {
   "cell_type": "markdown",
   "id": "e47003f5",
   "metadata": {},
   "source": [
    "原文的数值解：\n",
    "$$\n",
    "\\begin{aligned}\n",
    "C(z, t) &=\\int_{-\\infty}^{t} I_{\\mathrm{p}}\\left(t-t^{\\prime}\\right) \\times p\\left(t^{\\prime}\\right) \\mathrm{d} t^{\\prime} \\\\\n",
    "&=\\int_{-\\infty}^{t}\\left[\\frac{\\mathrm{e}^{-\\frac{\\left(z-w_{s}\\left[t-t^{\\prime}\\right])^{2}\\right.}{4 D_{s}\\left[t-t^{\\prime}\\right]}}}{\\sqrt{\\pi D_{s}\\left[t-t^{\\prime}\\right]}}+\\frac{w_{\\mathrm{s}}}{2 D_{\\mathrm{s}}} \\operatorname{erfc}\\left(\\frac{z-w_{s}\\left[t-t^{\\prime}\\right]}{2 \\sqrt{D_{\\mathrm{s}}\\left[t-t^{\\prime}\\right]}}\\right)\\right] p\\left(t^{\\prime}\\right) \\mathrm{d} t^{\\prime}\\\\\n",
    "&=I(z,t)\n",
    "\\end{aligned}\n",
    "$$\n",
    "\n",
    "脉冲函数\n",
    "$$\n",
    "\\begin{array}{rl}\n",
    "I_{\\mathrm{p}}(z, t)=\\frac{\\mathrm{e}^{-\\frac{\\left(z-w_{\\mathrm{s}} t\\right)^{2}}{4 D_{\\mathrm{s}} t}}}{\\sqrt{\\pi D_{\\mathrm{s}} t}}+\\frac{w_{\\mathrm{s}}}{2 D_{\\mathrm{s}}} \\operatorname{erfc}\\left(\\frac{z-w_{\\mathrm{s}} t}{2 \\sqrt{D_{\\mathrm{s}} t}}\\right)\n",
    "\\end{array}\n",
    "$$"
   ]
  },
  {
   "cell_type": "code",
   "execution_count": 7,
   "id": "7e359e4b",
   "metadata": {},
   "outputs": [],
   "source": [
    "# ##构建脉冲函数（原方程的数值解）\n",
    "# def fun1(z,t,ws,ds):\n",
    "#     stand1=(z-ws)/np.sqrt(4*np.pi*t)\n",
    "#     return stand1\n",
    "# def fun2(z,t,ws,ds):\n",
    "#     Ip=((np.exp(-(fun1(z,t,ws,ds))**2))/(np.sqrt(np.pi*ds*t)))+erfc(fun1(z,t,ws,ds))*ws*0.5/ds\n",
    "#     return Ip\n",
    "# def Ip(z,t,ws,ds):\n",
    "#     return(fun1(z,t,ws,ds)*fun2(z,t,ws,ds))\n",
    "##构建脉冲函数（原方程的数值解）\n",
    "def fun1(z,t,ws,ds):\n",
    "    stand1=(z-ws*t)/np.sqrt(4*ds*t)\n",
    "    return stand1\n",
    "def Ip(z,t,ws,ds):\n",
    "    Ip=((np.exp(-(fun1(z,t,ws,ds))**2))/(np.sqrt(np.pi*ds*t)))+erfc(fun1(z,t,ws,ds))*ws*0.5/ds\n",
    "    return Ip"
   ]
  },
  {
   "cell_type": "code",
   "execution_count": 28,
   "id": "986abadb",
   "metadata": {},
   "outputs": [],
   "source": [
    "# ws=0.03 #Session 4.2\n",
    "# ds=0.0001#table  1\n",
    "# Ws=0.001\n",
    "# Ds=0.0002"
   ]
  },
  {
   "cell_type": "code",
   "execution_count": 28,
   "id": "403f8888",
   "metadata": {
    "scrolled": true
   },
   "outputs": [
    {
     "data": {
      "text/plain": [
       "5.013559882080512"
      ]
     },
     "execution_count": 28,
     "metadata": {},
     "output_type": "execute_result"
    }
   ],
   "source": [
    "Ip(0.1,1800,Ws,Ds)"
   ]
  },
  {
   "cell_type": "code",
   "execution_count": 36,
   "id": "ca817e5b",
   "metadata": {},
   "outputs": [],
   "source": [
    "c=data_genf2(0.1,1,10,1,4000,4000)"
   ]
  },
  {
   "cell_type": "code",
   "execution_count": 37,
   "id": "f785592e",
   "metadata": {
    "scrolled": false
   },
   "outputs": [
    {
     "data": {
      "text/plain": [
       "array([0., 0., 0., 0., 0., 0., 0., 0., 0., 0.])"
      ]
     },
     "execution_count": 37,
     "metadata": {},
     "output_type": "execute_result"
    }
   ],
   "source": [
    "c.diagonal()"
   ]
  },
  {
   "cell_type": "markdown",
   "id": "2f7bb2e8",
   "metadata": {},
   "source": [
    "旧方法生成的数值解"
   ]
  },
  {
   "cell_type": "code",
   "execution_count": 32,
   "id": "622920a2",
   "metadata": {},
   "outputs": [],
   "source": [
    "c2=np.zeros((10,4000))\n",
    "z=np.linspace(0.1,1,10)\n",
    "t=np.linspace(1,4000,4000)\n",
    "for i in range(10):\n",
    "    for j in range(4000):\n",
    "        temp=Ip(z[i],t[j],Ws,Ds)\n",
    "        c2[i][j]=temp"
   ]
  },
  {
   "cell_type": "code",
   "execution_count": 33,
   "id": "42ccf170",
   "metadata": {},
   "outputs": [
    {
     "data": {
      "text/plain": [
       "(10, 4000)"
      ]
     },
     "execution_count": 33,
     "metadata": {},
     "output_type": "execute_result"
    }
   ],
   "source": [
    "c2.shape"
   ]
  },
  {
   "cell_type": "markdown",
   "id": "817ab7b3",
   "metadata": {},
   "source": [
    "## PINN"
   ]
  },
  {
   "cell_type": "code",
   "execution_count": 34,
   "id": "1260ba5f",
   "metadata": {},
   "outputs": [],
   "source": [
    "class Net(nn.Module):\n",
    "    def __init__(self, NN): # NL n个l（线性，全连接）隐藏层， NN 输入数据的维数， 128 256\n",
    "        # NL是有多少层隐藏层\n",
    "        # NN是每层的神经元数量\n",
    "        super(Net, self).__init__()\n",
    "\n",
    "        self.input_layer = nn.Linear(2, NN)\n",
    "        self.hidden_layer1 = nn.Linear(NN,int(NN/2)) ## 原文这里用NN，我这里用的下采样，经过实验验证，“等采样”更优\n",
    "        self.hidden_layer2 = nn.Linear(int(NN/2), int(NN/2))  ## 原文这里用NN，我这里用的下采样，经过实验验证，“等采样”更优\n",
    "        self.output_layer = nn.Linear(int(NN/2), 1)\n",
    "\n",
    "    def forward(self, x): # 一种特殊的方法 __call__() 回调\n",
    "        out = torch.tanh(self.input_layer(x))\n",
    "        out = torch.tanh(self.hidden_layer1(out))\n",
    "        out = torch.tanh(self.hidden_layer2(out))\n",
    "        out_final = self.output_layer(out)\n",
    "        return out_final\n"
   ]
  },
  {
   "cell_type": "markdown",
   "id": "8d6d6df6",
   "metadata": {},
   "source": [
    "考虑原文的方程：\n",
    "$$\n",
    "\\left\\{\n",
    "\\begin{array}{rl}\n",
    "u_t + {w}_su_z - D_s u_{zz} = 0, & z \\in[0,+\\infty], ~~ t \\in [0, +\\infty]\\\\\n",
    "u(0, t) = \\delta (x)\n",
    "\\end{array}\n",
    "\\right.\n",
    "$$"
   ]
  },
  {
   "cell_type": "code",
   "execution_count": 35,
   "id": "8e8a0de5",
   "metadata": {},
   "outputs": [],
   "source": [
    "def pde(x, net):\n",
    "    u = net(x)  # 神经网络得到的数据\n",
    "    u_tx = torch.autograd.grad(u, x, grad_outputs=torch.ones_like(net(x)),\n",
    "                               create_graph=True, allow_unused=True)[0]  # 求偏导数\n",
    "    d_t = u_tx[:, 0].unsqueeze(-1)#这里设置了t是第一维度\n",
    "    d_x = u_tx[:, 1].unsqueeze(-1)#设置x是第二维度\n",
    "    u_xx = torch.autograd.grad(d_x, x, grad_outputs=torch.ones_like(d_x),\n",
    "                               create_graph=True, allow_unused=True)[0][:,1].unsqueeze(-1)  # 求偏导数\n",
    "\n",
    "#     ws=0.03 #Session 4.2\n",
    "#     ds=0.0001#table  1\n",
    "    Ws=0.001\n",
    "    Ds=0.0002\n",
    "    return d_t + Ws * d_x - Ds * u_xx,u  "
   ]
  },
  {
   "cell_type": "code",
   "execution_count": 36,
   "id": "250a77ef",
   "metadata": {},
   "outputs": [],
   "source": [
    "# 网络的一些参数\n",
    "net = Net(30)\n",
    "mse_cost_function = torch.nn.MSELoss(reduction='mean')  # Mean squared error\n",
    "optimizer = torch.optim.Adam(net.parameters(), lr=1e-3)"
   ]
  },
  {
   "cell_type": "code",
   "execution_count": 46,
   "id": "fccb9b23",
   "metadata": {},
   "outputs": [],
   "source": [
    "cut=data_genf(0,1,100,1,100,100)#生成数据\n",
    "avaf=cut.diagonal()#取对角\n",
    "f_ac= Variable(torch.from_numpy(avaf).float(), requires_grad=False)\n",
    "\n",
    "# # 上次的方法生成的数据\n",
    "# x=np.linspace(0,1,2000).reshape(2000,1)\n",
    "# t=np.linspace(1,2000,2000).reshape(2000,1)\n",
    "# f_out3=np.zeros(2000)\n",
    "# for i in range(2000):\n",
    "#     f_out3[i]=Ip(x[i],t[i],Ws,Ds)"
   ]
  },
  {
   "cell_type": "code",
   "execution_count": 100,
   "id": "25321da8",
   "metadata": {},
   "outputs": [],
   "source": [
    "a=f_out2.tolist()"
   ]
  },
  {
   "cell_type": "code",
   "execution_count": 93,
   "id": "a67bda4b",
   "metadata": {},
   "outputs": [],
   "source": [
    "ada = Variable(torch.from_numpy(avaf).float(), requires_grad=True)"
   ]
  },
  {
   "cell_type": "code",
   "execution_count": 92,
   "id": "449840f8",
   "metadata": {},
   "outputs": [
    {
     "data": {
      "text/plain": [
       "torch.Size([100, 1])"
      ]
     },
     "execution_count": 92,
     "metadata": {},
     "output_type": "execute_result"
    }
   ],
   "source": [
    "pt_t_collocation.shape"
   ]
  },
  {
   "cell_type": "code",
   "execution_count": 103,
   "id": "8d60b811",
   "metadata": {},
   "outputs": [
    {
     "data": {
      "text/plain": [
       "[<matplotlib.lines.Line2D at 0x260e677e610>]"
      ]
     },
     "execution_count": 103,
     "metadata": {},
     "output_type": "execute_result"
    },
    {
     "data": {
      "image/png": "[encoded data removed]",
      "text/plain": [
       "<Figure size 432x288 with 1 Axes>"
      ]
     },
     "metadata": {
      "needs_background": "light"
     },
     "output_type": "display_data"
    }
   ],
   "source": [
    "plt.plot(t_collocation,a,color='r',label='net')\n",
    "plt.plot(t_collocation,avaf,color='b',label='d')"
   ]
  },
  {
   "cell_type": "code",
   "execution_count": 48,
   "id": "c5b526b5",
   "metadata": {
    "scrolled": true
   },
   "outputs": [
    {
     "name": "stderr",
     "output_type": "stream",
     "text": [
      "E:\\Anaconda\\lib\\site-packages\\torch\\nn\\modules\\loss.py:529: UserWarning: Using a target size (torch.Size([100])) that is different to the input size (torch.Size([100, 1])). This will likely lead to incorrect results due to broadcasting. Please ensure they have the same size.\n",
      "  return F.mse_loss(input, target, reduction=self.reduction)\n"
     ]
    },
    {
     "name": "stdout",
     "output_type": "stream",
     "text": [
      "0 Traning Loss: tensor(37.5995)\n",
      "100 Traning Loss: tensor(0.0194)\n",
      "200 Traning Loss: tensor(0.0064)\n",
      "300 Traning Loss: tensor(0.0028)\n",
      "400 Traning Loss: tensor(0.0014)\n",
      "500 Traning Loss: tensor(0.0007)\n",
      "600 Traning Loss: tensor(0.0004)\n",
      "700 Traning Loss: tensor(0.0003)\n",
      "800 Traning Loss: tensor(0.0002)\n",
      "900 Traning Loss: tensor(0.0001)\n",
      "1000 Traning Loss: tensor(9.9185e-05)\n",
      "1100 Traning Loss: tensor(8.3793e-05)\n",
      "1200 Traning Loss: tensor(7.3439e-05)\n",
      "1300 Traning Loss: tensor(6.5708e-05)\n",
      "1400 Traning Loss: tensor(5.9444e-05)\n",
      "1500 Traning Loss: tensor(5.4097e-05)\n",
      "1600 Traning Loss: tensor(4.9403e-05)\n",
      "1700 Traning Loss: tensor(4.5228e-05)\n",
      "1800 Traning Loss: tensor(4.1491e-05)\n",
      "1900 Traning Loss: tensor(3.8142e-05)\n",
      "2000 Traning Loss: tensor(3.5139e-05)\n",
      "2100 Traning Loss: tensor(3.2448e-05)\n",
      "2200 Traning Loss: tensor(3.0036e-05)\n",
      "2300 Traning Loss: tensor(2.7877e-05)\n",
      "2400 Traning Loss: tensor(2.5945e-05)\n",
      "2500 Traning Loss: tensor(2.4216e-05)\n",
      "2600 Traning Loss: tensor(2.2670e-05)\n",
      "2700 Traning Loss: tensor(2.1288e-05)\n",
      "2800 Traning Loss: tensor(2.0053e-05)\n",
      "2900 Traning Loss: tensor(1.8949e-05)\n"
     ]
    }
   ],
   "source": [
    "iterations=3000\n",
    "for epoch in range(iterations):\n",
    "    optimizer.zero_grad()  # 梯度归0\n",
    "\n",
    "    # 求边界条件的误差\n",
    "    # 初始化变量\n",
    "    t_boundary=np.linspace(1,100,100).reshape(100,1)\n",
    "    x_boundary=np.zeros(100).reshape(100,1)\n",
    "    p=np.linspace(1,100,100).reshape(100,1)\n",
    "    \n",
    "#根据张教授给的matlab代码的思想 设置了边界\n",
    "    for i in range(100):\n",
    "        p[i]=0.00001\n",
    "    # 将数据转化为torch可用的\n",
    "    \n",
    "    pt_x_boundary= Variable(torch.from_numpy(x_boundary).float(), requires_grad=False)\n",
    "    pt_t_boundary = Variable(torch.from_numpy(t_boundary).float(), requires_grad=False)\n",
    "    pt_u_boundary = Variable(torch.from_numpy(p).float(), requires_grad=False)\n",
    "\n",
    "    # 求边界条件的损失\n",
    "    net_b_out = net(torch.cat([ pt_t_boundary, pt_x_boundary], 1))  # u(x,t)的输出\n",
    "    mse_u_2 = mse_cost_function(net_b_out, pt_u_boundary)  # e = u(x,t)-边界的值  公式（2）\n",
    "    \n",
    "    # 求PDE函数式的误差\n",
    "    # 初始化变量\n",
    "    x_collocation =np.linspace(0,1,100).reshape(100,1)\n",
    "    t_collocation =np.linspace(1,100,100).reshape(100,1)\n",
    "    all_zeros = np.zeros((100, 1))\n",
    "    pt_all_zeros = Variable(torch.from_numpy(all_zeros).float(), requires_grad=False)\n",
    "    pt_x_collocation = Variable(torch.from_numpy(x_collocation).float(), requires_grad=True)\n",
    "    pt_t_collocation = Variable(torch.from_numpy(t_collocation).float(), requires_grad=True)\n",
    " \n",
    "\n",
    "    # 将变量x,t带入公式（1）\n",
    "    f_out,f_out2 = pde(torch.cat([pt_t_collocation, pt_x_collocation], 1), net) \n",
    "    #torch.cat([,],1)将两个向量按第一维度链接起来\n",
    "    # output of f(x,t) 公式（1）\n",
    "    mse_f_1 = mse_cost_function(f_out, pt_all_zeros)\n",
    "    mse_u_3=mse_cost_function(f_out2,f_ac)#这个将神经网络得到的真实值与实际的真实值相比较\n",
    "    # 将误差(损失)累加起来\n",
    "    loss = mse_f_1 + mse_u_2+mse_u_3\n",
    "\n",
    "    loss.backward()  # 反向传播\n",
    "    optimizer.step()  # This is equivalent to : theta_new = theta_old - alpha * derivative of J w.r.t theta\n",
    "\n",
    "    with torch.autograd.no_grad():\n",
    "        if epoch % 100 == 0:\n",
    "            print(epoch, \"Traning Loss:\", loss.data)"
   ]
  },
  {
   "cell_type": "code",
   "execution_count": 49,
   "id": "5d5d9362",
   "metadata": {},
   "outputs": [
    {
     "data": {
      "image/png": "[encoded data removed]",
      "text/plain": [
       "<Figure size 432x288 with 1 Axes>"
      ]
     },
     "metadata": {
      "needs_background": "light"
     },
     "output_type": "display_data"
    }
   ],
   "source": [
    "## 画图 ##\n",
    "t = np.linspace(0, 3000, 2000)\n",
    "x = np.linspace(0, 1, 256)\n",
    "ms_t, ms_x = np.meshgrid(t, x)\n",
    "# x,t的坐标以及将其Meshgrid\n",
    "\n",
    "x = np.ravel(ms_x).reshape(-1, 1)\n",
    "t = np.ravel(ms_t).reshape(-1, 1)\n",
    "pt_x = Variable(torch.from_numpy(x).float(), requires_grad=True)\n",
    "pt_t = Variable(torch.from_numpy(t).float(), requires_grad=True)\n",
    "pt_u0 = net(torch.cat([pt_t, pt_x], 1))#训练好的网络\n",
    "u = pt_u0.data.cpu().numpy()\n",
    "\n",
    "pt_u0 = u.reshape(256, 2000)\n",
    "\n",
    "fig = plt.figure()\n",
    "ax = fig.add_subplot(projection='3d')\n",
    "ax.set_zlim([-1, 1])\n",
    "ax.plot_surface(ms_t, ms_x, pt_u0, cmap=cm.RdYlBu_r, edgecolor='blue', linewidth=0.0003, antialiased=True)\n",
    "ax.set_xlabel('t')\n",
    "ax.set_ylabel('x')\n",
    "ax.set_zlabel('u')"
   ]
  },
  {
   "cell_type": "code",
   "execution_count": 54,
   "id": "e16751ca",
   "metadata": {},
   "outputs": [
    {
     "data": {
      "text/plain": [
       "array([[0.00000000e+00, 1.50075038e+00, 3.00150075e+00, ...,\n",
       "        2.99699850e+03, 2.99849925e+03, 3.00000000e+03],\n",
       "       [0.00000000e+00, 1.50075038e+00, 3.00150075e+00, ...,\n",
       "        2.99699850e+03, 2.99849925e+03, 3.00000000e+03],\n",
       "       [0.00000000e+00, 1.50075038e+00, 3.00150075e+00, ...,\n",
       "        2.99699850e+03, 2.99849925e+03, 3.00000000e+03],\n",
       "       ...,\n",
       "       [0.00000000e+00, 1.50075038e+00, 3.00150075e+00, ...,\n",
       "        2.99699850e+03, 2.99849925e+03, 3.00000000e+03],\n",
       "       [0.00000000e+00, 1.50075038e+00, 3.00150075e+00, ...,\n",
       "        2.99699850e+03, 2.99849925e+03, 3.00000000e+03],\n",
       "       [0.00000000e+00, 1.50075038e+00, 3.00150075e+00, ...,\n",
       "        2.99699850e+03, 2.99849925e+03, 3.00000000e+03]])"
      ]
     },
     "execution_count": 54,
     "metadata": {},
     "output_type": "execute_result"
    }
   ],
   "source": []
  }
 ],
 "metadata": {
  "kernelspec": {
   "display_name": "Python 3 (ipykernel)",
   "language": "python",
   "name": "python3"
  },
  "language_info": {
   "codemirror_mode": {
    "name": "ipython",
    "version": 3
   },
   "file_extension": ".py",
   "mimetype": "text/x-python",
   "name": "python",
   "nbconvert_exporter": "python",
   "pygments_lexer": "ipython3",
   "version": "3.9.7"
  }
 },
 "nbformat": 4,
 "nbformat_minor": 5
}
